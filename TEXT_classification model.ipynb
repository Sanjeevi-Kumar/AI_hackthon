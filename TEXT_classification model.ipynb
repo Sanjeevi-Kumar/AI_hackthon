{
 "cells": [
  {
   "cell_type": "code",
   "execution_count": 2,
   "metadata": {},
   "outputs": [],
   "source": [
    "import pandas as pd"
   ]
  },
  {
   "cell_type": "code",
   "execution_count": 4,
   "metadata": {},
   "outputs": [],
   "source": [
    "data=pd.read_csv(r\"C:\\Users\\Sanjeevi Kumar\\Downloads\\train.csv\")"
   ]
  },
  {
   "cell_type": "code",
   "execution_count": 5,
   "metadata": {},
   "outputs": [
    {
     "data": {
      "text/html": [
       "<div>\n",
       "<style scoped>\n",
       "    .dataframe tbody tr th:only-of-type {\n",
       "        vertical-align: middle;\n",
       "    }\n",
       "\n",
       "    .dataframe tbody tr th {\n",
       "        vertical-align: top;\n",
       "    }\n",
       "\n",
       "    .dataframe thead th {\n",
       "        text-align: right;\n",
       "    }\n",
       "</style>\n",
       "<table border=\"1\" class=\"dataframe\">\n",
       "  <thead>\n",
       "    <tr style=\"text-align: right;\">\n",
       "      <th></th>\n",
       "      <th>category</th>\n",
       "      <th>sub_category</th>\n",
       "      <th>crimeaditionalinfo</th>\n",
       "    </tr>\n",
       "  </thead>\n",
       "  <tbody>\n",
       "    <tr>\n",
       "      <th>0</th>\n",
       "      <td>Online and Social Media Related Crime</td>\n",
       "      <td>Cyber Bullying  Stalking  Sexting</td>\n",
       "      <td>I had continue received random calls and abusi...</td>\n",
       "    </tr>\n",
       "    <tr>\n",
       "      <th>1</th>\n",
       "      <td>Online Financial Fraud</td>\n",
       "      <td>Fraud CallVishing</td>\n",
       "      <td>The above fraudster is continuously messaging ...</td>\n",
       "    </tr>\n",
       "    <tr>\n",
       "      <th>2</th>\n",
       "      <td>Online Gambling  Betting</td>\n",
       "      <td>Online Gambling  Betting</td>\n",
       "      <td>He is acting like a police and demanding for m...</td>\n",
       "    </tr>\n",
       "    <tr>\n",
       "      <th>3</th>\n",
       "      <td>Online and Social Media Related Crime</td>\n",
       "      <td>Online Job Fraud</td>\n",
       "      <td>In apna Job I have applied for job interview f...</td>\n",
       "    </tr>\n",
       "    <tr>\n",
       "      <th>4</th>\n",
       "      <td>Online Financial Fraud</td>\n",
       "      <td>Fraud CallVishing</td>\n",
       "      <td>I received a call from lady stating that she w...</td>\n",
       "    </tr>\n",
       "    <tr>\n",
       "      <th>...</th>\n",
       "      <td>...</td>\n",
       "      <td>...</td>\n",
       "      <td>...</td>\n",
       "    </tr>\n",
       "    <tr>\n",
       "      <th>93681</th>\n",
       "      <td>Online Financial Fraud</td>\n",
       "      <td>Internet Banking Related Fraud</td>\n",
       "      <td>Identity theft   Smishing SMS Fraud  CreditDeb...</td>\n",
       "    </tr>\n",
       "    <tr>\n",
       "      <th>93682</th>\n",
       "      <td>Online Financial Fraud</td>\n",
       "      <td>EWallet Related Fraud</td>\n",
       "      <td>RECEIVED CALL FROM  NUMBER ASKING ABOUT phone ...</td>\n",
       "    </tr>\n",
       "    <tr>\n",
       "      <th>93683</th>\n",
       "      <td>Online Financial Fraud</td>\n",
       "      <td>UPI Related Frauds</td>\n",
       "      <td>Cyber Stalking   Blackmailing   PhoneSMSVOIP C...</td>\n",
       "    </tr>\n",
       "    <tr>\n",
       "      <th>93684</th>\n",
       "      <td>Online and Social Media Related Crime</td>\n",
       "      <td>Online Matrimonial Fraud</td>\n",
       "      <td>Call karke bola ki aapka lotary laga ha aru AC...</td>\n",
       "    </tr>\n",
       "    <tr>\n",
       "      <th>93685</th>\n",
       "      <td>Online Financial Fraud</td>\n",
       "      <td>Fraud CallVishing</td>\n",
       "      <td>There is app name koko loan app they send the ...</td>\n",
       "    </tr>\n",
       "  </tbody>\n",
       "</table>\n",
       "<p>93686 rows × 3 columns</p>\n",
       "</div>"
      ],
      "text/plain": [
       "                                    category  \\\n",
       "0      Online and Social Media Related Crime   \n",
       "1                     Online Financial Fraud   \n",
       "2                   Online Gambling  Betting   \n",
       "3      Online and Social Media Related Crime   \n",
       "4                     Online Financial Fraud   \n",
       "...                                      ...   \n",
       "93681                 Online Financial Fraud   \n",
       "93682                 Online Financial Fraud   \n",
       "93683                 Online Financial Fraud   \n",
       "93684  Online and Social Media Related Crime   \n",
       "93685                 Online Financial Fraud   \n",
       "\n",
       "                            sub_category  \\\n",
       "0      Cyber Bullying  Stalking  Sexting   \n",
       "1                      Fraud CallVishing   \n",
       "2               Online Gambling  Betting   \n",
       "3                       Online Job Fraud   \n",
       "4                      Fraud CallVishing   \n",
       "...                                  ...   \n",
       "93681     Internet Banking Related Fraud   \n",
       "93682              EWallet Related Fraud   \n",
       "93683                 UPI Related Frauds   \n",
       "93684           Online Matrimonial Fraud   \n",
       "93685                  Fraud CallVishing   \n",
       "\n",
       "                                      crimeaditionalinfo  \n",
       "0      I had continue received random calls and abusi...  \n",
       "1      The above fraudster is continuously messaging ...  \n",
       "2      He is acting like a police and demanding for m...  \n",
       "3      In apna Job I have applied for job interview f...  \n",
       "4      I received a call from lady stating that she w...  \n",
       "...                                                  ...  \n",
       "93681  Identity theft   Smishing SMS Fraud  CreditDeb...  \n",
       "93682  RECEIVED CALL FROM  NUMBER ASKING ABOUT phone ...  \n",
       "93683  Cyber Stalking   Blackmailing   PhoneSMSVOIP C...  \n",
       "93684  Call karke bola ki aapka lotary laga ha aru AC...  \n",
       "93685  There is app name koko loan app they send the ...  \n",
       "\n",
       "[93686 rows x 3 columns]"
      ]
     },
     "execution_count": 5,
     "metadata": {},
     "output_type": "execute_result"
    }
   ],
   "source": [
    "data"
   ]
  },
  {
   "cell_type": "code",
   "execution_count": 7,
   "metadata": {},
   "outputs": [
    {
     "data": {
      "text/plain": [
       "array(['Online and Social Media Related Crime', 'Online Financial Fraud',\n",
       "       'Online Gambling  Betting',\n",
       "       'RapeGang Rape RGRSexually Abusive Content',\n",
       "       'Any Other Cyber Crime', 'Cyber Attack/ Dependent Crimes',\n",
       "       'Cryptocurrency Crime', 'Sexually Explicit Act',\n",
       "       'Sexually Obscene material',\n",
       "       'Hacking  Damage to computercomputer system etc',\n",
       "       'Cyber Terrorism',\n",
       "       'Child Pornography CPChild Sexual Abuse Material CSAM',\n",
       "       'Online Cyber Trafficking', 'Ransomware',\n",
       "       'Report Unlawful Content'], dtype=object)"
      ]
     },
     "execution_count": 7,
     "metadata": {},
     "output_type": "execute_result"
    }
   ],
   "source": [
    "data[\"category\"].unique()"
   ]
  },
  {
   "cell_type": "code",
   "execution_count": 8,
   "metadata": {},
   "outputs": [
    {
     "data": {
      "text/plain": [
       "array(['Cyber Bullying  Stalking  Sexting', 'Fraud CallVishing',\n",
       "       'Online Gambling  Betting', 'Online Job Fraud',\n",
       "       'UPI Related Frauds', 'Internet Banking Related Fraud', nan,\n",
       "       'Other', 'Profile Hacking Identity Theft',\n",
       "       'DebitCredit Card FraudSim Swap Fraud', 'EWallet Related Fraud',\n",
       "       'Data Breach/Theft', 'Cheating by Impersonation',\n",
       "       'Denial of Service (DoS)/Distributed Denial of Service (DDOS) attacks',\n",
       "       'FakeImpersonating Profile', 'Cryptocurrency Fraud',\n",
       "       'Malware Attack', 'Business Email CompromiseEmail Takeover',\n",
       "       'Email Hacking', 'Hacking/Defacement',\n",
       "       'Unauthorised AccessData Breach', 'SQL Injection',\n",
       "       'Provocative Speech for unlawful acts', 'Ransomware Attack',\n",
       "       'Cyber Terrorism', 'Tampering with computer source documents',\n",
       "       'DematDepository Fraud', 'Online Trafficking',\n",
       "       'Online Matrimonial Fraud', 'Website DefacementHacking',\n",
       "       'Damage to computer computer systems etc', 'Impersonating Email',\n",
       "       'EMail Phishing', 'Ransomware', 'Intimidating Email',\n",
       "       'Against Interest of sovereignty or integrity of India'],\n",
       "      dtype=object)"
      ]
     },
     "execution_count": 8,
     "metadata": {},
     "output_type": "execute_result"
    }
   ],
   "source": [
    "data[\"sub_category\"].unique()"
   ]
  },
  {
   "cell_type": "code",
   "execution_count": null,
   "metadata": {},
   "outputs": [],
   "source": []
  }
 ],
 "metadata": {
  "kernelspec": {
   "display_name": "Python 3",
   "language": "python",
   "name": "python3"
  },
  "language_info": {
   "codemirror_mode": {
    "name": "ipython",
    "version": 3
   },
   "file_extension": ".py",
   "mimetype": "text/x-python",
   "name": "python",
   "nbconvert_exporter": "python",
   "pygments_lexer": "ipython3",
   "version": "3.12.3"
  }
 },
 "nbformat": 4,
 "nbformat_minor": 2
}
